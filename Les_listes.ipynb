{
 "cells": [
  {
   "cell_type": "code",
   "execution_count": 4,
   "id": "906c8e84",
   "metadata": {},
   "outputs": [],
   "source": [
    "ma_liste=[1,2,3,4,5,6,7,8,\"hello\",10.5]"
   ]
  },
  {
   "cell_type": "code",
   "execution_count": 5,
   "id": "c7f50b1e",
   "metadata": {},
   "outputs": [
    {
     "name": "stdout",
     "output_type": "stream",
     "text": [
      "[1, 2, 3, 4, 5, 6, 7, 8, 'hello', 10.5]\n"
     ]
    }
   ],
   "source": [
    "print(ma_liste)"
   ]
  },
  {
   "cell_type": "code",
   "execution_count": 6,
   "id": "0e7fcf50",
   "metadata": {},
   "outputs": [
    {
     "data": {
      "text/plain": [
       "2"
      ]
     },
     "execution_count": 6,
     "metadata": {},
     "output_type": "execute_result"
    }
   ],
   "source": [
    "ma_liste[1]"
   ]
  },
  {
   "cell_type": "code",
   "execution_count": 7,
   "id": "be57295e",
   "metadata": {},
   "outputs": [
    {
     "data": {
      "text/plain": [
       "[3, 4]"
      ]
     },
     "execution_count": 7,
     "metadata": {},
     "output_type": "execute_result"
    }
   ],
   "source": [
    "ma_liste[2:4]"
   ]
  },
  {
   "cell_type": "code",
   "execution_count": 9,
   "id": "9feee034",
   "metadata": {},
   "outputs": [
    {
     "data": {
      "text/plain": [
       "[4, 5, 6, 7, 8, 'hello', 10.5]"
      ]
     },
     "execution_count": 9,
     "metadata": {},
     "output_type": "execute_result"
    }
   ],
   "source": [
    "ma_liste[3:]"
   ]
  },
  {
   "cell_type": "code",
   "execution_count": 10,
   "id": "7ec409e2",
   "metadata": {},
   "outputs": [
    {
     "data": {
      "text/plain": [
       "[1, 2, 3, 4]"
      ]
     },
     "execution_count": 10,
     "metadata": {},
     "output_type": "execute_result"
    }
   ],
   "source": [
    "ma_liste[:4]"
   ]
  },
  {
   "cell_type": "code",
   "execution_count": 11,
   "id": "9219182b",
   "metadata": {},
   "outputs": [
    {
     "data": {
      "text/plain": [
       "'hello'"
      ]
     },
     "execution_count": 11,
     "metadata": {},
     "output_type": "execute_result"
    }
   ],
   "source": [
    "ma_liste[-2]"
   ]
  },
  {
   "cell_type": "code",
   "execution_count": 12,
   "id": "51c96d29",
   "metadata": {},
   "outputs": [
    {
     "data": {
      "text/plain": [
       "[2, 3, 4, 5, 6]"
      ]
     },
     "execution_count": 12,
     "metadata": {},
     "output_type": "execute_result"
    }
   ],
   "source": [
    "ma_liste[1:-4]"
   ]
  },
  {
   "cell_type": "code",
   "execution_count": 13,
   "id": "d1550a53",
   "metadata": {},
   "outputs": [
    {
     "data": {
      "text/plain": [
       "[1, 3, 5, 7, 'hello']"
      ]
     },
     "execution_count": 13,
     "metadata": {},
     "output_type": "execute_result"
    }
   ],
   "source": [
    "ma_liste[::2]"
   ]
  },
  {
   "cell_type": "code",
   "execution_count": 14,
   "id": "be90834a",
   "metadata": {},
   "outputs": [
    {
     "data": {
      "text/plain": [
       "[2, 4, 6, 8, 10.5]"
      ]
     },
     "execution_count": 14,
     "metadata": {},
     "output_type": "execute_result"
    }
   ],
   "source": [
    "ma_liste[1::2]"
   ]
  },
  {
   "cell_type": "code",
   "execution_count": 15,
   "id": "85a5fce5",
   "metadata": {},
   "outputs": [],
   "source": [
    "ma_liste.append(2)"
   ]
  },
  {
   "cell_type": "code",
   "execution_count": 16,
   "id": "746cac22",
   "metadata": {},
   "outputs": [
    {
     "name": "stdout",
     "output_type": "stream",
     "text": [
      "[1, 2, 3, 4, 5, 6, 7, 8, 'hello', 10.5, 2]\n"
     ]
    }
   ],
   "source": [
    "print(ma_liste)"
   ]
  },
  {
   "cell_type": "code",
   "execution_count": 17,
   "id": "bf629b9b",
   "metadata": {},
   "outputs": [],
   "source": [
    "ma_liste.insert(5, \"new\")"
   ]
  },
  {
   "cell_type": "code",
   "execution_count": 18,
   "id": "346d6c07",
   "metadata": {},
   "outputs": [
    {
     "name": "stdout",
     "output_type": "stream",
     "text": [
      "[1, 2, 3, 4, 5, 'new', 6, 7, 8, 'hello', 10.5, 2]\n"
     ]
    }
   ],
   "source": [
    "print(ma_liste)"
   ]
  },
  {
   "cell_type": "code",
   "execution_count": 19,
   "id": "30643489",
   "metadata": {},
   "outputs": [
    {
     "name": "stdout",
     "output_type": "stream",
     "text": [
      "['a', 2, 3, 4, 5, 'new', 6, 7, 8, 'hello', 10.5, 2]\n"
     ]
    }
   ],
   "source": [
    "ma_liste[0]= \"a\"\n",
    "print(ma_liste)"
   ]
  },
  {
   "cell_type": "code",
   "execution_count": 20,
   "id": "fa0b0317",
   "metadata": {},
   "outputs": [
    {
     "name": "stdout",
     "output_type": "stream",
     "text": [
      "['a', 2, 3, 8, 10, 'new', 6, 7, 8, 'hello', 10.5, 2]\n"
     ]
    }
   ],
   "source": [
    "ma_liste[3:5]=[8, 10]\n",
    "print(ma_liste)"
   ]
  },
  {
   "cell_type": "code",
   "execution_count": 21,
   "id": "8e687fdc",
   "metadata": {},
   "outputs": [
    {
     "name": "stdout",
     "output_type": "stream",
     "text": [
      "[3, 8, 10, 'new', 6, 7, 8, 'hello', 10.5, 2]\n"
     ]
    }
   ],
   "source": [
    "ma_liste[0:2]=[]\n",
    "print(ma_liste)"
   ]
  },
  {
   "cell_type": "code",
   "execution_count": 22,
   "id": "9e27f5e4",
   "metadata": {},
   "outputs": [
    {
     "name": "stdout",
     "output_type": "stream",
     "text": [
      "[3, 8, 10, 6, 7, 8, 'hello', 10.5, 2]\n"
     ]
    }
   ],
   "source": [
    "del ma_liste[3]\n",
    "print(ma_liste)"
   ]
  },
  {
   "cell_type": "code",
   "execution_count": 23,
   "id": "225b4071",
   "metadata": {},
   "outputs": [
    {
     "data": {
      "text/plain": [
       "[1, 2, 3, 4, 5, 6, 7, 8, 9, 10]"
      ]
     },
     "execution_count": 23,
     "metadata": {},
     "output_type": "execute_result"
    }
   ],
   "source": [
    "ma_liste1 = [1,2,3,4,5]\n",
    "ma_liste2 = [6,7,8,9,10]\n",
    "ma_liste3 = ma_liste1 + ma_liste2\n",
    "ma_liste3"
   ]
  },
  {
   "cell_type": "code",
   "execution_count": 24,
   "id": "eb02d7e0",
   "metadata": {},
   "outputs": [
    {
     "data": {
      "text/plain": [
       "55"
      ]
     },
     "execution_count": 24,
     "metadata": {},
     "output_type": "execute_result"
    }
   ],
   "source": [
    "sum(ma_liste3)"
   ]
  },
  {
   "cell_type": "code",
   "execution_count": 25,
   "id": "6adbacaa",
   "metadata": {},
   "outputs": [
    {
     "data": {
      "text/plain": [
       "10"
      ]
     },
     "execution_count": 25,
     "metadata": {},
     "output_type": "execute_result"
    }
   ],
   "source": [
    "len(ma_liste3)"
   ]
  },
  {
   "cell_type": "code",
   "execution_count": 26,
   "id": "c2577837",
   "metadata": {},
   "outputs": [
    {
     "data": {
      "text/plain": [
       "[5, 6, 1, 2, 5, 6, 6]"
      ]
     },
     "execution_count": 26,
     "metadata": {},
     "output_type": "execute_result"
    }
   ],
   "source": [
    "ma_liste = [5,6,1,2,5,6,6]\n",
    "ma_liste"
   ]
  },
  {
   "cell_type": "code",
   "execution_count": 27,
   "id": "3939be8f",
   "metadata": {},
   "outputs": [
    {
     "data": {
      "text/plain": [
       "3"
      ]
     },
     "execution_count": 27,
     "metadata": {},
     "output_type": "execute_result"
    }
   ],
   "source": [
    "ma_liste.count(6)"
   ]
  },
  {
   "cell_type": "code",
   "execution_count": 28,
   "id": "97b90572",
   "metadata": {},
   "outputs": [
    {
     "data": {
      "text/plain": [
       "[1, 2, 5, 5, 6, 6, 6]"
      ]
     },
     "execution_count": 28,
     "metadata": {},
     "output_type": "execute_result"
    }
   ],
   "source": [
    "ma_liste.sort()\n",
    "ma_liste"
   ]
  },
  {
   "cell_type": "code",
   "execution_count": 29,
   "id": "fd9a99b6",
   "metadata": {},
   "outputs": [
    {
     "data": {
      "text/plain": [
       "[6, 6, 6, 5, 5, 2, 1]"
      ]
     },
     "execution_count": 29,
     "metadata": {},
     "output_type": "execute_result"
    }
   ],
   "source": [
    "ma_liste.reverse()\n",
    "ma_liste"
   ]
  },
  {
   "cell_type": "code",
   "execution_count": 30,
   "id": "fb5aa092",
   "metadata": {},
   "outputs": [
    {
     "data": {
      "text/plain": [
       "1"
      ]
     },
     "execution_count": 30,
     "metadata": {},
     "output_type": "execute_result"
    }
   ],
   "source": [
    "min(ma_liste)"
   ]
  },
  {
   "cell_type": "code",
   "execution_count": 31,
   "id": "c21097d2",
   "metadata": {},
   "outputs": [
    {
     "data": {
      "text/plain": [
       "6"
      ]
     },
     "execution_count": 31,
     "metadata": {},
     "output_type": "execute_result"
    }
   ],
   "source": [
    "max(ma_liste)"
   ]
  },
  {
   "cell_type": "code",
   "execution_count": 32,
   "id": "c371a688",
   "metadata": {},
   "outputs": [
    {
     "data": {
      "text/plain": [
       "(1, 2, 3, 4, 5)"
      ]
     },
     "execution_count": 32,
     "metadata": {},
     "output_type": "execute_result"
    }
   ],
   "source": [
    "tuple1=(1,2,3,4,5)\n",
    "tuple1"
   ]
  },
  {
   "cell_type": "code",
   "execution_count": 33,
   "id": "bc7bf30d",
   "metadata": {},
   "outputs": [
    {
     "data": {
      "text/plain": [
       "2"
      ]
     },
     "execution_count": 33,
     "metadata": {},
     "output_type": "execute_result"
    }
   ],
   "source": [
    "tuple1[1]"
   ]
  },
  {
   "cell_type": "code",
   "execution_count": 34,
   "id": "7a4cfdb1",
   "metadata": {},
   "outputs": [
    {
     "data": {
      "text/plain": [
       "20"
      ]
     },
     "execution_count": 34,
     "metadata": {},
     "output_type": "execute_result"
    }
   ],
   "source": [
    "mes_notes = [19,7,15,9,10,6,18,10,16,14,13,10,2,20,17,8,12,10,11,4]\n",
    "len(mes_notes)"
   ]
  },
  {
   "cell_type": "code",
   "execution_count": 3,
   "id": "fb2030fd",
   "metadata": {},
   "outputs": [
    {
     "name": "stdout",
     "output_type": "stream",
     "text": [
      "[19, 7, 15, 9, 10, 6, 18, 10, 16, 14, 13, 10, 2, 20, 17, 8, 12, 10, 11, 4]\n",
      "Moyenne: 11.55\n",
      "La note la plus faible est 2 et la note la plus élevée est 20\n",
      "[20, 19, 18, 17, 16, 15, 14, 13, 12, 11, 10, 10, 10, 10, 9, 8, 7, 6, 4, 2]\n",
      "[6, 19, 18, 17, 16, 15, 14, 13, 12, 11, 10, 10, 10, 10, 9, 8, 7, 6, 4, 2]\n",
      "Il y a 4 notes 10!\n",
      "Il y a 9 notes avec plus de 10!\n"
     ]
    }
   ],
   "source": [
    "mes_notes = [19,7,15,9,10,6,18,10,16,14,13,10,2,20,17,8,12,10,11,4]\n",
    "print(mes_notes)\n",
    "\n",
    "#Moyenne\n",
    "AVG = sum(mes_notes)/len(mes_notes)\n",
    "print(\"Moyenne: \" + str(AVG))\n",
    "\n",
    "# NOte min / max\n",
    "\n",
    "print(\"La note la plus faible est \" + str(min(mes_notes)) + \" et la note la plus élevée est \" + str(max(mes_notes)))\n",
    "\n",
    "# Tri des notes\n",
    "\n",
    "mes_notes.sort(reverse=True)\n",
    "print(mes_notes)\n",
    "\n",
    "# Remplacer 2 par 6\n",
    "\n",
    "mes_notes[mes_notes==2]=6\n",
    "print(mes_notes)\n",
    "\n",
    "#compte les 10\n",
    "\n",
    "print(\"Il y a \" + str(mes_notes.count(10)) + \" notes 10!\")\n",
    "\n",
    "# éleves > 10\n",
    "\n",
    "note10_count = len([10 for item in mes_notes if item > 10])\n",
    "\n",
    "print(\"Il y a \" + str(note10_count) + \" notes avec plus de 10!\")"
   ]
  },
  {
   "cell_type": "code",
   "execution_count": 56,
   "id": "ba20e103",
   "metadata": {},
   "outputs": [
    {
     "data": {
      "text/plain": [
       "[6, 19, 18, 17, 16, 15, 14, 13, 12, 11, 10, 10, 10, 10, 9, 8, 7, 6, 4, 2]"
      ]
     },
     "execution_count": 56,
     "metadata": {},
     "output_type": "execute_result"
    }
   ],
   "source": [
    "mes_notes"
   ]
  },
  {
   "cell_type": "code",
   "execution_count": 4,
   "id": "0670bf49",
   "metadata": {},
   "outputs": [
    {
     "data": {
      "text/plain": [
       "6"
      ]
     },
     "execution_count": 4,
     "metadata": {},
     "output_type": "execute_result"
    }
   ],
   "source": [
    "mes_notes[mes_notes==2]"
   ]
  },
  {
   "cell_type": "code",
   "execution_count": null,
   "id": "b6b64246",
   "metadata": {},
   "outputs": [],
   "source": []
  }
 ],
 "metadata": {
  "kernelspec": {
   "display_name": "Python 3 (ipykernel)",
   "language": "python",
   "name": "python3"
  },
  "language_info": {
   "codemirror_mode": {
    "name": "ipython",
    "version": 3
   },
   "file_extension": ".py",
   "mimetype": "text/x-python",
   "name": "python",
   "nbconvert_exporter": "python",
   "pygments_lexer": "ipython3",
   "version": "3.10.9"
  }
 },
 "nbformat": 4,
 "nbformat_minor": 5
}
