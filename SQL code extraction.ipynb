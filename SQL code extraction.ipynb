{
 "cells": [
  {
   "cell_type": "markdown",
   "id": "c61ab00a",
   "metadata": {},
   "source": [
    "## Test to extract Tables and Fields name from SQL\n",
    "\n",
    "https://stackoverflow.com/questions/35624662/how-to-extract-table-names-and-column-names-from-sql-query\n",
    "\n"
   ]
  },
  {
   "cell_type": "code",
   "execution_count": 3,
   "id": "79c18aca",
   "metadata": {},
   "outputs": [
    {
     "name": "stdout",
     "output_type": "stream",
     "text": [
      "Note: you may need to restart the kernel to use updated packages.\n"
     ]
    }
   ],
   "source": [
    "pip freeze --user"
   ]
  },
  {
   "cell_type": "code",
   "execution_count": 3,
   "id": "b67d46cd",
   "metadata": {},
   "outputs": [
    {
     "data": {
      "text/plain": [
       "{'test.test_a': ['test.test_a1']}"
      ]
     },
     "execution_count": 3,
     "metadata": {},
     "output_type": "execute_result"
    }
   ],
   "source": [
    "import re\n",
    "\n",
    "def tables_in_query(sql_str):\n",
    "\n",
    "    # remove the /* */ comments\n",
    "    q = re.sub(r\"/\\*[^*]*\\*+(?:[^*/][^*]*\\*+)*/\", \"\", sql_str)\n",
    "\n",
    "    # remove whole line -- and # comments\n",
    "    lines = [line for line in q.splitlines() if not re.match(\"^\\s*(--|#)\", line)]\n",
    "\n",
    "    # remove trailing -- and # comments\n",
    "    q = \" \".join([re.split(\"--|#\", line)[0] for line in lines])\n",
    "\n",
    "    # split on blanks, parens and semicolons\n",
    "    tokens = re.split(r\"[\\s)(;]+\", q)\n",
    "\n",
    "    # scan the tokens. if we see a FROM or JOIN, we set the get_next\n",
    "    # flag, and grab the next one (unless it's SELECT).\n",
    "\n",
    "    tables = set()\n",
    "    get_next = False\n",
    "    for tok in tokens:\n",
    "        if get_next:\n",
    "            if tok.lower() not in [\"\", \"select\"]:\n",
    "                tables.add(tok)\n",
    "            get_next = False\n",
    "        get_next = tok.lower() in [\"from\", \"join\"]\n",
    "\n",
    "    dictTables = dict()\n",
    "    for table in tables:\n",
    "        fields = []\n",
    "        for token in tokens:\n",
    "            if token.startswith(table):\n",
    "                if token != table:\n",
    "                    fields.append(token)\n",
    "        if len(list(set(fields))) >= 1:\n",
    "            dictTables[table] = list(set(fields))\n",
    "    return dictTables\n",
    "\n",
    "sql = \"\"\"\n",
    "select *\n",
    "from (\n",
    "  select col1 from  test.test_a join test.test_a1 on a.col1 = a1.col1) a\n",
    "left join test.test_b b \n",
    "on a.col1 = b.col2\n",
    "left join\n",
    "    test.test_c c -- from xxx\n",
    "on b.col2  = c.col3 /* join xxxxx */\n",
    "left jon\n",
    "   (select \n",
    "       col4 \n",
    "    from\n",
    "       test.test_d) d\n",
    "on c.col3  = d.col4\"\"\"\n",
    "\n",
    "tables_in_query(sql)"
   ]
  },
  {
   "cell_type": "code",
   "execution_count": 1,
   "id": "4aa3cf11",
   "metadata": {},
   "outputs": [
    {
     "name": "stdout",
     "output_type": "stream",
     "text": [
      "['test.test_a', 'test.test_a1', 'test.test_b', 'test.test_c', 'test.test_d']\n"
     ]
    }
   ],
   "source": [
    "import re\n",
    "\n",
    "txt = \"\"\"\n",
    "select *\n",
    "from (\n",
    "  select col1 from  test.test_a join test.test_a1 on a.col1 = a1.col1) a\n",
    "left join test.test_b b \n",
    "on a.col1 = b.col2\n",
    "left join\n",
    "    test.test_c c -- from xxx\n",
    "on b.col2  = c.col3 /* join xxxxx */\n",
    "left jon\n",
    "   (select \n",
    "       col4 \n",
    "    from\n",
    "       test.test_d) d\n",
    "on c.col3  = d.col4\"\"\"\n",
    "\n",
    "def get_tables(sql_str):\n",
    "    # remove the /* */ comments\n",
    "    sql_str = re.sub(r\"/\\*[^*]*\\*+(?:[^*/][^*]*\\*+)*/\", \"\", sql_str)\n",
    "\n",
    "    # remove whole line -- and # comments\n",
    "    lines = [line for line in sql_str.splitlines() if not re.match(\"^\\s*(--|#)\", line)]\n",
    "\n",
    "    # remove trailing -- and # comments\n",
    "    sql_str = \" \".join([re.split(\"--|#\", line)[0] for line in lines])\n",
    "\n",
    "    replace_list = ['\\n', '(', ')', '*', '=']\n",
    "    for i in replace_list:\n",
    "        sql_str = sql_str.replace(i, ' ')\n",
    "    sql_str = sql_str.split()\n",
    "    res = []\n",
    "    for i in range(1, len(sql_str)):\n",
    "        if sql_str[i-1] in ['from', 'join'] and sql_str[i] != 'select': \n",
    "            res.append(sql_str[i])\n",
    "    print(res)\n",
    "    \n",
    "get_tables(txt)"
   ]
  },
  {
   "cell_type": "markdown",
   "id": "21d3926a",
   "metadata": {},
   "source": [
    "### test with sql-metadata library\n",
    "\n",
    "https://github.com/macbre/sql-metadata"
   ]
  },
  {
   "cell_type": "code",
   "execution_count": 4,
   "id": "2c7c146e",
   "metadata": {},
   "outputs": [
    {
     "name": "stdout",
     "output_type": "stream",
     "text": [
      "Defaulting to user installation because normal site-packages is not writeable\n"
     ]
    },
    {
     "name": "stderr",
     "output_type": "stream",
     "text": [
      "WARNING: Retrying (Retry(total=4, connect=None, read=None, redirect=None, status=None)) after connection broken by 'ConnectTimeoutError(<pip._vendor.urllib3.connection.HTTPSConnection object at 0x00000155442DDC30>, 'Connection to pypi.org timed out. (connect timeout=15)')': /simple/sql-metadata/\n",
      "WARNING: Retrying (Retry(total=3, connect=None, read=None, redirect=None, status=None)) after connection broken by 'ConnectTimeoutError(<pip._vendor.urllib3.connection.HTTPSConnection object at 0x00000155442DDF00>, 'Connection to pypi.org timed out. (connect timeout=15)')': /simple/sql-metadata/\n",
      "WARNING: Retrying (Retry(total=2, connect=None, read=None, redirect=None, status=None)) after connection broken by 'ConnectTimeoutError(<pip._vendor.urllib3.connection.HTTPSConnection object at 0x00000155442DE080>, 'Connection to pypi.org timed out. (connect timeout=15)')': /simple/sql-metadata/\n",
      "WARNING: Retrying (Retry(total=1, connect=None, read=None, redirect=None, status=None)) after connection broken by 'ConnectTimeoutError(<pip._vendor.urllib3.connection.HTTPSConnection object at 0x00000155442DE170>, 'Connection to pypi.org timed out. (connect timeout=15)')': /simple/sql-metadata/\n",
      "WARNING: Retrying (Retry(total=0, connect=None, read=None, redirect=None, status=None)) after connection broken by 'ConnectTimeoutError(<pip._vendor.urllib3.connection.HTTPSConnection object at 0x00000155442DE2F0>, 'Connection to pypi.org timed out. (connect timeout=15)')': /simple/sql-metadata/\n",
      "ERROR: Could not find a version that satisfies the requirement sql-metadata (from versions: none)\n",
      "ERROR: No matching distribution found for sql-metadata\n",
      "WARNING: There was an error checking the latest version of pip.\n"
     ]
    }
   ],
   "source": [
    "!pip install sql-metadata"
   ]
  },
  {
   "cell_type": "code",
   "execution_count": 6,
   "id": "5b31a157",
   "metadata": {},
   "outputs": [
    {
     "ename": "ModuleNotFoundError",
     "evalue": "No module named 'sql_metadata'",
     "output_type": "error",
     "traceback": [
      "\u001b[1;31m---------------------------------------------------------------------------\u001b[0m",
      "\u001b[1;31mModuleNotFoundError\u001b[0m                       Traceback (most recent call last)",
      "Cell \u001b[1;32mIn[6], line 2\u001b[0m\n\u001b[0;32m      1\u001b[0m \u001b[38;5;66;03m#Extracting columns \u001b[39;00m\n\u001b[1;32m----> 2\u001b[0m \u001b[38;5;28;01mfrom\u001b[39;00m \u001b[38;5;21;01msql_metadata\u001b[39;00m \u001b[38;5;28;01mimport\u001b[39;00m Parser\n\u001b[0;32m      4\u001b[0m \u001b[38;5;66;03m# get columns from query - for more examples see `tests/test_getting_columns.py`\u001b[39;00m\n\u001b[0;32m      5\u001b[0m Parser(\u001b[38;5;124m\"\u001b[39m\u001b[38;5;124mSELECT test, id FROM foo, bar\u001b[39m\u001b[38;5;124m\"\u001b[39m)\u001b[38;5;241m.\u001b[39mcolumns\n",
      "\u001b[1;31mModuleNotFoundError\u001b[0m: No module named 'sql_metadata'"
     ]
    }
   ],
   "source": [
    "#Extracting columns \n",
    "from sql_metadata import Parser\n",
    "\n",
    "# get columns from query - for more examples see `tests/test_getting_columns.py`\n",
    "Parser(\"SELECT test, id FROM foo, bar\").columns\n",
    "# ['test', 'id']\n",
    "\n",
    "Parser(\"INSERT /* VoteHelper::addVote xxx */  INTO `page_vote` (article_id,user_id,`time`) VALUES ('442001','27574631','20180228130846')\").columns\n",
    "# ['article_id', 'user_id', 'time']\n",
    "\n",
    "parser = Parser(\"SELECT a.* FROM product_a.users AS a JOIN product_b.users AS b ON a.ip_address = b.ip_address\")\n",
    "\n",
    "# note that aliases are auto-resolved\n",
    "parser.columns\n",
    "# ['product_a.*', 'product_a.users.ip_address', 'product_b.users.ip_address']\n",
    "\n",
    "# note that you can also extract columns with their place in the query\n",
    "# which will return dict with lists divided into select, where, order_by, group_by, join, insert and update\n",
    "parser.columns_dict\n",
    "# {'select': ['product_a.users.*'], 'join': ['product_a.users.ip_address', 'product_b.users.ip_address']}"
   ]
  },
  {
   "cell_type": "code",
   "execution_count": null,
   "id": "d6647f53",
   "metadata": {},
   "outputs": [],
   "source": [
    "#Extracting tables \n",
    "from sql_metadata import Parser\n",
    "\n",
    "# get tables from query - for more examples see `tests/test_getting_tables.py`\n",
    "Parser(\"SELECT a.* FROM product_a.users AS a JOIN product_b.users AS b ON a.ip_address = b.ip_address\").tables\n",
    "# ['product_a.users', 'product_b.users']\n",
    "\n",
    "Parser(\"SELECT test, id FROM foo, bar\").tables\n",
    "# ['foo', 'bar']\n",
    "\n",
    "# you can also extract aliases of the tables as a dictionary\n",
    "parser = Parser(\"SELECT f.test FROM foo AS f\")\n",
    "\n",
    "# get table aliases\n",
    "parser.tables_aliases\n",
    "# {'f': 'foo'}\n",
    "\n",
    "# note that aliases are auto-resolved for columns\n",
    "parser.columns\n",
    "# [\"foo.test\"]"
   ]
  }
 ],
 "metadata": {
  "kernelspec": {
   "display_name": "Python 3 (ipykernel)",
   "language": "python",
   "name": "python3"
  },
  "language_info": {
   "codemirror_mode": {
    "name": "ipython",
    "version": 3
   },
   "file_extension": ".py",
   "mimetype": "text/x-python",
   "name": "python",
   "nbconvert_exporter": "python",
   "pygments_lexer": "ipython3",
   "version": "3.10.9"
  }
 },
 "nbformat": 4,
 "nbformat_minor": 5
}
