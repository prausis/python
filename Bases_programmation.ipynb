{
 "cells": [
  {
   "cell_type": "code",
   "execution_count": 1,
   "id": "8c618601",
   "metadata": {},
   "outputs": [
    {
     "data": {
      "text/plain": [
       "True"
      ]
     },
     "execution_count": 1,
     "metadata": {},
     "output_type": "execute_result"
    }
   ],
   "source": [
    "# premier opérateur de comparaison\n",
    "\n",
    "1==1"
   ]
  },
  {
   "cell_type": "code",
   "execution_count": 3,
   "id": "423744c7",
   "metadata": {},
   "outputs": [
    {
     "data": {
      "text/plain": [
       "True"
      ]
     },
     "execution_count": 3,
     "metadata": {},
     "output_type": "execute_result"
    }
   ],
   "source": [
    "# 2e opérateur de comparaison pas égal\n",
    "\n",
    "1 != 2\n",
    "\n",
    "# 3e opérateur de comparaison\n",
    "\n",
    "1 < 2"
   ]
  },
  {
   "cell_type": "code",
   "execution_count": 4,
   "id": "32a00737",
   "metadata": {},
   "outputs": [],
   "source": [
    "variable1 = 2\n",
    "variable2 = 4\n",
    "variable3 = \"Hello\""
   ]
  },
  {
   "cell_type": "code",
   "execution_count": 12,
   "id": "cce74c73",
   "metadata": {},
   "outputs": [
    {
     "name": "stdout",
     "output_type": "stream",
     "text": [
      "Ta comparaison est vrai!\n"
     ]
    }
   ],
   "source": [
    "if (variable1 == 2) and (variable3 == \"Hello\"):\n",
    "    print('Ta comparaison est vrai!')\n",
    "else:\n",
    "    print('Ta comparaison est fausse!')"
   ]
  },
  {
   "cell_type": "code",
   "execution_count": 13,
   "id": "706608c8",
   "metadata": {},
   "outputs": [
    {
     "name": "stdout",
     "output_type": "stream",
     "text": [
      "Ta comparaison est vrai!\n"
     ]
    }
   ],
   "source": [
    "if (variable1 > variable2) or (variable3 == \"Hello\"):\n",
    "    print('Ta comparaison est vrai!')\n",
    "else:\n",
    "    print('Ta comparaison est fausse!')"
   ]
  },
  {
   "cell_type": "code",
   "execution_count": 14,
   "id": "df5b9f90",
   "metadata": {},
   "outputs": [],
   "source": [
    "ma_liste = [1,2,3,4,5,6,7,8,9,10]"
   ]
  },
  {
   "cell_type": "code",
   "execution_count": 17,
   "id": "8cb652af",
   "metadata": {},
   "outputs": [
    {
     "name": "stdout",
     "output_type": "stream",
     "text": [
      "2\n",
      "--\n",
      "4\n",
      "--\n",
      "6\n",
      "--\n",
      "8\n",
      "--\n",
      "10\n",
      "--\n",
      "12\n",
      "--\n",
      "14\n",
      "--\n",
      "16\n",
      "--\n",
      "18\n",
      "--\n",
      "20\n",
      "--\n"
     ]
    }
   ],
   "source": [
    "for ma_valeur in ma_liste:\n",
    "    print(ma_valeur *2)\n",
    "    print(\"--\")"
   ]
  },
  {
   "cell_type": "code",
   "execution_count": 20,
   "id": "31056d1c",
   "metadata": {},
   "outputs": [
    {
     "name": "stdout",
     "output_type": "stream",
     "text": [
      "La multiplication de 2 * 1 = 2\n",
      "La multiplication de 2 * 2 = 4\n",
      "La multiplication de 2 * 3 = 6\n",
      "La multiplication de 2 * 4 = 8\n",
      "La multiplication de 2 * 5 = 10\n",
      "La multiplication de 2 * 6 = 12\n",
      "La multiplication de 2 * 7 = 14\n",
      "La multiplication de 2 * 8 = 16\n",
      "La multiplication de 2 * 9 = 18\n",
      "La multiplication de 2 * 10 = 20\n"
     ]
    }
   ],
   "source": [
    "for ma_valeur in ma_liste:\n",
    "    valeur = ma_valeur * 2\n",
    "    print('La multiplication de 2 * %d = %d' %(ma_valeur, valeur))"
   ]
  },
  {
   "cell_type": "code",
   "execution_count": 24,
   "id": "669f7500",
   "metadata": {},
   "outputs": [
    {
     "name": "stdout",
     "output_type": "stream",
     "text": [
      "compteur = 0\n",
      "ma_valeur = 1\n",
      "compteur = 1\n",
      "ma_valeur = 2\n",
      "compteur = 2\n",
      "ma_valeur = 3\n",
      "compteur = 3\n",
      "ma_valeur = 4\n",
      "compteur = 4\n",
      "ma_valeur = 5\n",
      "compteur = 5\n",
      "ma_valeur = 6\n",
      "compteur = 6\n",
      "ma_valeur = 7\n",
      "compteur = 7\n",
      "ma_valeur = 8\n",
      "compteur = 8\n",
      "ma_valeur = 9\n"
     ]
    }
   ],
   "source": [
    "i = 0\n",
    "while (i < 9):\n",
    "    print('compteur = %d' %(i))\n",
    "    print('ma_valeur = %d' %(ma_liste[i]))\n",
    "    i+=1"
   ]
  },
  {
   "cell_type": "code",
   "execution_count": 26,
   "id": "be557926",
   "metadata": {},
   "outputs": [
    {
     "name": "stdout",
     "output_type": "stream",
     "text": [
      "compteur = 1\n",
      "ma_valeur = 2\n",
      "compteur = 3\n",
      "ma_valeur = 4\n",
      "compteur = 5\n",
      "ma_valeur = 6\n",
      "compteur = 7\n",
      "ma_valeur = 8\n",
      "compteur = 9\n",
      "ma_valeur = 10\n"
     ]
    }
   ],
   "source": [
    "i = 0\n",
    "while (i < 10):\n",
    "    if ma_liste[i] % 2 == 0:\n",
    "        print('compteur = %d' %(i))\n",
    "        print('ma_valeur = %d' %(ma_liste[i]))\n",
    "    i+=1"
   ]
  },
  {
   "cell_type": "markdown",
   "id": "0470b58d",
   "metadata": {},
   "source": [
    "# Exercice final"
   ]
  },
  {
   "cell_type": "code",
   "execution_count": 30,
   "id": "40f4bfc4",
   "metadata": {},
   "outputs": [],
   "source": [
    "prix_maison = list(range(125000, 700000, 10000))"
   ]
  },
  {
   "cell_type": "code",
   "execution_count": 33,
   "id": "f1a01065",
   "metadata": {},
   "outputs": [
    {
     "data": {
      "text/plain": [
       "58"
      ]
     },
     "execution_count": 33,
     "metadata": {},
     "output_type": "execute_result"
    }
   ],
   "source": [
    "len(prix_maison)"
   ]
  },
  {
   "cell_type": "code",
   "execution_count": 48,
   "id": "54e056a1",
   "metadata": {},
   "outputs": [
    {
     "name": "stdout",
     "output_type": "stream",
     "text": [
      "question 1 = 40\n",
      "question 2 = 15\n",
      "question 3 = 48\n",
      "question 4 = 8\n"
     ]
    }
   ],
   "source": [
    "q1 = 0\n",
    "q2 = 0\n",
    "q3 = 0\n",
    "q4 = 0\n",
    "\n",
    "for p in prix_maison:\n",
    "    if p >= 300000:\n",
    "        q1+=1\n",
    "    if (p > 250000) and (p < 400000):\n",
    "        q2+=1\n",
    "    if p < 600000:\n",
    "        q3+=1\n",
    "    if (p > 650000) or (p < 150000):\n",
    "        q4+=1\n",
    "\n",
    "print('question %d = %d' %(1, q1))\n",
    "print('question %d = %d' %(2, q2))\n",
    "print('question %d = %d' %(3, q3))\n",
    "print('question %d = %d' %(4, q4))"
   ]
  },
  {
   "cell_type": "markdown",
   "id": "b35acbf2",
   "metadata": {},
   "source": [
    "## Fonction"
   ]
  },
  {
   "cell_type": "code",
   "execution_count": 50,
   "id": "ed4496c8",
   "metadata": {},
   "outputs": [],
   "source": [
    "# fonction en python\n",
    "\n",
    "def compte_maison(une_liste, treshhold):\n",
    "    nb = 0\n",
    "    for p in une_liste:\n",
    "        if p >= treshhold:\n",
    "            nb +=1\n",
    "    return nb"
   ]
  },
  {
   "cell_type": "code",
   "execution_count": 51,
   "id": "aae7425c",
   "metadata": {},
   "outputs": [],
   "source": [
    "nb = compte_maison(prix_maison, 300000)"
   ]
  },
  {
   "cell_type": "code",
   "execution_count": 53,
   "id": "670f16b3",
   "metadata": {},
   "outputs": [
    {
     "data": {
      "text/plain": [
       "40"
      ]
     },
     "execution_count": 53,
     "metadata": {},
     "output_type": "execute_result"
    }
   ],
   "source": [
    "nb"
   ]
  },
  {
   "cell_type": "code",
   "execution_count": 55,
   "id": "ed6a4c14",
   "metadata": {},
   "outputs": [],
   "source": [
    "def compte_maison(une_liste, treshhold):\n",
    "    nb = 0\n",
    "    nb_total = 0\n",
    "    for p in une_liste:\n",
    "        if p >= treshhold:\n",
    "            nb +=1\n",
    "        nb_total +=1\n",
    "    return (nb, nb_total)"
   ]
  },
  {
   "cell_type": "code",
   "execution_count": 57,
   "id": "9ffc6292",
   "metadata": {},
   "outputs": [
    {
     "name": "stdout",
     "output_type": "stream",
     "text": [
      "40 58\n"
     ]
    }
   ],
   "source": [
    "nb, nb_total = compte_maison(prix_maison, 300000)\n",
    "print(nb, nb_total)"
   ]
  },
  {
   "cell_type": "code",
   "execution_count": null,
   "id": "fda7c64b",
   "metadata": {},
   "outputs": [],
   "source": []
  }
 ],
 "metadata": {
  "kernelspec": {
   "display_name": "Python 3 (ipykernel)",
   "language": "python",
   "name": "python3"
  },
  "language_info": {
   "codemirror_mode": {
    "name": "ipython",
    "version": 3
   },
   "file_extension": ".py",
   "mimetype": "text/x-python",
   "name": "python",
   "nbconvert_exporter": "python",
   "pygments_lexer": "ipython3",
   "version": "3.9.12"
  }
 },
 "nbformat": 4,
 "nbformat_minor": 5
}
