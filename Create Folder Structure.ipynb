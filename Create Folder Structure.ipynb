{
 "cells": [
  {
   "cell_type": "code",
   "execution_count": 1,
   "id": "82157fcc",
   "metadata": {},
   "outputs": [],
   "source": [
    "import os\n",
    "from openpyxl import load_workbook\n",
    "\n",
    "\n"
   ]
  },
  {
   "cell_type": "code",
   "execution_count": null,
   "id": "ff72b22f",
   "metadata": {},
   "outputs": [],
   "source": [
    "def create_folder_structure(data):\n",
    "    for row in data:\n",
    "        level1_folder = row[0]\n",
    "        level2_folder = row[1]\n",
    "        level3_folder = row[2]\n",
    "        file_name = row[3]\n",
    "\n",
    "        # Create the folder structure\n",
    "        os.makedirs(os.path.join(level1_folder, level2_folder, level3_folder), exist_ok=True)\n",
    "\n",
    "        # Create the empty text file with .sql extension\n",
    "        file_path = os.path.join(level1_folder, level2_folder, level3_folder, file_name + \".sql\")\n",
    "        open(file_path, 'w').close()\n",
    "\n",
    "# Load the Excel file\n",
    "wb = load_workbook('file.xlsx')  # Replace 'file.xlsx' with the actual file name\n",
    "sheet = wb.active\n",
    "\n",
    "# Read the data from the Excel file\n",
    "data = []\n",
    "for row in sheet.iter_rows(values_only=True):\n",
    "    data.append(row)\n",
    "\n",
    "# Skip the header row if it exists\n",
    "if data[0][0] == \"Level 1 Folder\":\n",
    "    data = data[1:]\n",
    "\n",
    "# Create the folder structure and text files\n",
    "create_folder_structure(data)"
   ]
  }
 ],
 "metadata": {
  "kernelspec": {
   "display_name": "Python 3 (ipykernel)",
   "language": "python",
   "name": "python3"
  },
  "language_info": {
   "codemirror_mode": {
    "name": "ipython",
    "version": 3
   },
   "file_extension": ".py",
   "mimetype": "text/x-python",
   "name": "python",
   "nbconvert_exporter": "python",
   "pygments_lexer": "ipython3",
   "version": "3.10.9"
  }
 },
 "nbformat": 4,
 "nbformat_minor": 5
}
